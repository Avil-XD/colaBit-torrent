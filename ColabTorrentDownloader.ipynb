{
  "cells": [
    {
      "cell_type": "markdown",
      "metadata": {
        "id": "Be3iKZ4FZ1LV"
      },
      "source": [
        "## **Install dependencies** 🛫"
      ]
    },
    {
      "cell_type": "code",
      "execution_count": 11,
      "metadata": {
        "id": "qEPL7qdkaAoG"
      },
      "outputs": [],
      "source": [
        "%%capture\n",
        "\n",
        "# Install and update essential tools for managing Python packages\n",
        "get_ipython().system('python -m pip install --upgrade pip setuptools wheel')\n",
        "\n",
        "# Install libraries for downloading and handling torrent files\n",
        "get_ipython().system('python -m pip install lbry-libtorrent wget torf')\n",
        "\n",
        "# Install system-level dependency for torrent functionality\n",
        "get_ipython().system('apt install python3-libtorrent -y')"
      ]
    },
    {
      "cell_type": "markdown",
      "metadata": {
        "id": "6sfsiTXEaN8_"
      },
      "source": [
        "## **Download torrent** ⏬"
      ]
    },
    {
      "cell_type": "code",
      "execution_count": 10,
      "metadata": {
        "id": "KpXzNFTgaRPW",
        "colab": {
          "base_uri": "https://localhost:8080/",
          "height": 1000
        },
        "outputId": "08ff8f6c-6fd2-4325-feae-4feed29a4196"
      },
      "outputs": [
        {
          "output_type": "stream",
          "name": "stdout",
          "text": [
            "Input Torrent file link or Magnet link and Press Enter: magnet:?xt=urn:btih:95821687520e75998a15237cf9e0073ffbd0af2a&dn=%E5%B0%8F%E9%A9%AC%E5%A4%A7%E8%BD%A6\n",
            "magnet:?xt=urn:btih:95821687520e75998a15237cf9e0073ffbd0af2a&dn=%E5%B0%8F%E9%A9%AC%E5%A4%A7%E8%BD%A6\n",
            "2025-02-25 08:35:00.954060\n",
            "Downloading Metadata...\n",
            "Got Metadata, Starting Torrent Download...\n",
            "Starting 小马大车\n",
            "0.01% complete (down: 42.7 kb/s up: 1.7 kB/s peers: 1) downloading \n",
            "0.02% complete (down: 206.7 kb/s up: 6.6 kB/s peers: 2) downloading \n",
            "0.08% complete (down: 600.0 kb/s up: 18.3 kB/s peers: 2) downloading \n",
            "0.14% complete (down: 827.1 kb/s up: 26.2 kB/s peers: 2) downloading \n",
            "0.20% complete (down: 918.2 kb/s up: 27.1 kB/s peers: 1) downloading \n",
            "0.70% complete (down: 4987.1 kb/s up: 151.2 kB/s peers: 1) downloading \n",
            "0.73% complete (down: 2085.9 kb/s up: 63.2 kB/s peers: 0) downloading \n",
            "0.73% complete (down: 683.5 kb/s up: 20.7 kB/s peers: 0) downloading \n",
            "0.73% complete (down: 224.0 kb/s up: 6.8 kB/s peers: 0) downloading \n",
            "0.73% complete (down: 73.4 kb/s up: 2.2 kB/s peers: 0) downloading \n",
            "0.73% complete (down: 24.0 kb/s up: 0.7 kB/s peers: 0) downloading \n",
            "0.73% complete (down: 7.9 kb/s up: 0.2 kB/s peers: 0) downloading \n",
            "0.73% complete (down: 2.6 kb/s up: 0.1 kB/s peers: 0) downloading \n",
            "0.73% complete (down: 0.9 kb/s up: 0.2 kB/s peers: 0) downloading \n",
            "0.73% complete (down: 0.3 kb/s up: 0.1 kB/s peers: 0) downloading \n",
            "0.73% complete (down: 0.1 kb/s up: 0.0 kB/s peers: 0) downloading \n",
            "0.73% complete (down: 0.4 kb/s up: 1.2 kB/s peers: 1) downloading \n",
            "0.73% complete (down: 0.1 kb/s up: 0.4 kB/s peers: 0) downloading \n",
            "0.73% complete (down: 0.1 kb/s up: 0.2 kB/s peers: 0) downloading \n",
            "0.73% complete (down: 0.0 kb/s up: 0.0 kB/s peers: 0) downloading \n",
            "0.73% complete (down: 0.0 kb/s up: 0.0 kB/s peers: 0) downloading \n",
            "0.73% complete (down: 0.0 kb/s up: 0.0 kB/s peers: 0) downloading \n",
            "0.73% complete (down: 0.0 kb/s up: 0.0 kB/s peers: 0) downloading \n",
            "0.73% complete (down: 0.0 kb/s up: 0.0 kB/s peers: 0) downloading \n",
            "0.73% complete (down: 0.0 kb/s up: 0.0 kB/s peers: 0) downloading \n",
            "0.73% complete (down: 0.0 kb/s up: 0.0 kB/s peers: 0) downloading \n",
            "0.73% complete (down: 0.0 kb/s up: 0.0 kB/s peers: 0) downloading \n",
            "0.73% complete (down: 0.0 kb/s up: 0.0 kB/s peers: 0) downloading \n",
            "0.73% complete (down: 0.0 kb/s up: 0.2 kB/s peers: 0) downloading \n",
            "0.73% complete (down: 0.4 kb/s up: 1.3 kB/s peers: 1) downloading \n",
            "0.75% complete (down: 151.5 kb/s up: 5.7 kB/s peers: 1) downloading \n",
            "1.20% complete (down: 4528.6 kb/s up: 141.1 kB/s peers: 1) downloading \n",
            "1.70% complete (down: 6563.8 kb/s up: 203.4 kB/s peers: 1) downloading \n",
            "2.14% complete (down: 6502.8 kb/s up: 201.7 kB/s peers: 1) downloading \n",
            "2.65% complete (down: 7033.9 kb/s up: 218.1 kB/s peers: 1) downloading \n",
            "3.19% complete (down: 7505.1 kb/s up: 232.7 kB/s peers: 1) downloading \n",
            "3.71% complete (down: 7429.0 kb/s up: 230.0 kB/s peers: 1) downloading \n",
            "4.17% complete (down: 6778.0 kb/s up: 210.0 kB/s peers: 1) downloading \n",
            "4.66% complete (down: 6911.3 kb/s up: 214.2 kB/s peers: 1) downloading \n",
            "5.17% complete (down: 7156.8 kb/s up: 221.9 kB/s peers: 1) downloading \n",
            "5.67% complete (down: 7151.5 kb/s up: 221.9 kB/s peers: 1) downloading \n",
            "6.18% complete (down: 7387.1 kb/s up: 229.0 kB/s peers: 1) downloading \n",
            "6.59% complete (down: 6381.3 kb/s up: 199.0 kB/s peers: 2) downloading \n",
            "6.95% complete (down: 5652.1 kb/s up: 175.7 kB/s peers: 1) downloading \n",
            "7.22% complete (down: 4507.0 kb/s up: 139.9 kB/s peers: 1) downloading \n",
            "7.46% complete (down: 3936.3 kb/s up: 122.2 kB/s peers: 0) downloading \n",
            "7.56% complete (down: 2111.4 kb/s up: 66.7 kB/s peers: 1) downloading \n",
            "8.06% complete (down: 5459.9 kb/s up: 169.8 kB/s peers: 1) downloading \n",
            "8.23% complete (down: 3331.3 kb/s up: 103.4 kB/s peers: 0) downloading \n",
            "8.23% complete (down: 1091.8 kb/s up: 34.2 kB/s peers: 0) downloading \n",
            "8.23% complete (down: 357.8 kb/s up: 11.2 kB/s peers: 0) downloading \n",
            "8.23% complete (down: 117.2 kb/s up: 3.7 kB/s peers: 0) downloading \n",
            "8.23% complete (down: 38.4 kb/s up: 1.2 kB/s peers: 0) downloading \n",
            "8.23% complete (down: 12.6 kb/s up: 0.4 kB/s peers: 0) downloading \n",
            "8.23% complete (down: 4.1 kb/s up: 0.1 kB/s peers: 0) downloading \n",
            "8.23% complete (down: 1.6 kb/s up: 0.9 kB/s peers: 1) downloading \n",
            "8.23% complete (down: 0.5 kb/s up: 0.3 kB/s peers: 0) downloading \n",
            "8.23% complete (down: 0.2 kb/s up: 0.1 kB/s peers: 0) downloading \n",
            "8.23% complete (down: 0.1 kb/s up: 0.0 kB/s peers: 0) downloading \n",
            "8.23% complete (down: 0.0 kb/s up: 0.0 kB/s peers: 0) downloading \n"
          ]
        },
        {
          "output_type": "error",
          "ename": "KeyboardInterrupt",
          "evalue": "",
          "traceback": [
            "\u001b[0;31m---------------------------------------------------------------------------\u001b[0m",
            "\u001b[0;31mKeyboardInterrupt\u001b[0m                         Traceback (most recent call last)",
            "\u001b[0;32m<ipython-input-10-7bf27dff332e>\u001b[0m in \u001b[0;36m<cell line: 0>\u001b[0;34m()\u001b[0m\n\u001b[1;32m     50\u001b[0m           (s.progress * 100, s.download_rate / 1000, s.upload_rate / 1000,\n\u001b[1;32m     51\u001b[0m            s.num_peers, state_str[s.state]))\n\u001b[0;32m---> 52\u001b[0;31m     \u001b[0mtime\u001b[0m\u001b[0;34m.\u001b[0m\u001b[0msleep\u001b[0m\u001b[0;34m(\u001b[0m\u001b[0;36m5\u001b[0m\u001b[0;34m)\u001b[0m\u001b[0;34m\u001b[0m\u001b[0;34m\u001b[0m\u001b[0m\n\u001b[0m\u001b[1;32m     53\u001b[0m \u001b[0;34m\u001b[0m\u001b[0m\n\u001b[1;32m     54\u001b[0m \u001b[0mend\u001b[0m \u001b[0;34m=\u001b[0m \u001b[0mtime\u001b[0m\u001b[0;34m.\u001b[0m\u001b[0mtime\u001b[0m\u001b[0;34m(\u001b[0m\u001b[0;34m)\u001b[0m\u001b[0;34m\u001b[0m\u001b[0;34m\u001b[0m\u001b[0m\n",
            "\u001b[0;31mKeyboardInterrupt\u001b[0m: "
          ]
        }
      ],
      "source": [
        "import zipfile\n",
        "import os\n",
        "import libtorrent as lt\n",
        "import time\n",
        "import datetime\n",
        "import shutil\n",
        "\n",
        "# --- Torrent Download Settings ---\n",
        "DOWNLOAD_PATH = '/content/Torrent/'\n",
        "STORAGE_MODE = lt.storage_mode_t(2)\n",
        "\n",
        "params = {\n",
        "    'save_path': DOWNLOAD_PATH,\n",
        "    'storage_mode': STORAGE_MODE,\n",
        "}\n",
        "\n",
        "# --- Start Libtorrent Session ---\n",
        "ses = lt.session()\n",
        "ses.listen_on(6881, 6891)\n",
        "\n",
        "# --- Get Torrent/Magnet Link from User ---\n",
        "link = input(\"Enter Torrent file link or Magnet link: \")\n",
        "\n",
        "# --- Handle Torrent File Conversion ---\n",
        "if link.endswith('.torrent'):\n",
        "    import wget\n",
        "    from torf import Torrent\n",
        "\n",
        "    TORRENT_FILE = 'torrent.torrent'\n",
        "\n",
        "    if os.path.exists(TORRENT_FILE):\n",
        "        os.remove(TORRENT_FILE)\n",
        "\n",
        "    wget.download(link, TORRENT_FILE)\n",
        "    torrent_info = Torrent.read(TORRENT_FILE)\n",
        "    link = str(torrent_info.magnet(name=True, size=False, trackers=False, tracker=False))\n",
        "\n",
        "# --- Start Download ---\n",
        "print(\"Using link:\", link)\n",
        "handle = lt.add_magnet_uri(ses, link, params)\n",
        "handle.set_sequential_download(0)  # Download in parallel\n",
        "ses.start_dht()\n",
        "\n",
        "begin = time.time()\n",
        "print(datetime.datetime.now())\n",
        "print(\"Downloading Metadata...\")\n",
        "\n",
        "while not handle.has_metadata():\n",
        "    time.sleep(1)\n",
        "\n",
        "print(\"Got Metadata, Starting Torrent Download...\")\n",
        "print(\"Starting:\", handle.name())\n",
        "\n",
        "# --- Monitor and Display Progress ---\n",
        "while handle.status().state != lt.torrent_status.seeding:\n",
        "    status = handle.status()\n",
        "    state_str = ['queued', 'checking', 'downloading metadata',\n",
        "                 'downloading', 'finished', 'seeding', 'allocating']\n",
        "\n",
        "    print(\n",
        "        '%.2f%% complete (down: %.1f kb/s up: %.1f kB/s peers: %d) %s ' %\n",
        "        (status.progress * 100, status.download_rate / 1000,\n",
        "         status.upload_rate / 1000, status.num_peers, state_str[status.state])\n",
        "    )\n",
        "    time.sleep(5)\n",
        "\n",
        "# --- Download Complete ---\n",
        "end = time.time()\n",
        "print(handle.name(), \"COMPLETE\")\n",
        "print(\"Elapsed Time: \", int((end - begin) // 60), \"min :\", int((end - begin) % 60), \"sec\")\n",
        "print(datetime.datetime.now())"
      ]
    },
    {
      "cell_type": "markdown",
      "metadata": {
        "id": "GaolCCthM8Yr"
      },
      "source": [
        "## **Zip the files** 📐"
      ]
    },
    {
      "cell_type": "code",
      "execution_count": 12,
      "metadata": {
        "id": "NkDbqy-qM8Yr",
        "colab": {
          "base_uri": "https://localhost:8080/"
        },
        "outputId": "d414c944-87c4-4c17-b5f7-032a446fc5aa"
      },
      "outputs": [
        {
          "output_type": "stream",
          "name": "stdout",
          "text": [
            "Zipping started...\n",
            "\n",
            "ALL DONE!\n"
          ]
        }
      ],
      "source": [
        "import zipfile\n",
        "import os\n",
        "\n",
        "def zip_downloaded_torrent(torrent_directory='content/Torrent/', zip_filename='Downloaded-Torrent.zip'):\n",
        "    \"\"\"\n",
        "    Zips the contents of the downloaded torrent directory into a single ZIP file.\n",
        "\n",
        "    Args:\n",
        "        torrent_directory: The path to the directory containing the downloaded torrent files.\n",
        "        zip_filename: The name of the ZIP file to be created.\n",
        "    \"\"\"\n",
        "    print('Zipping started...')\n",
        "\n",
        "    with zipfile.ZipFile(zip_filename, 'w', zipfile.ZIP_DEFLATED) as zip_file:\n",
        "        for root, _, files in os.walk(torrent_directory):\n",
        "            for file in files:\n",
        "                # Construct the full file path\n",
        "                file_path = os.path.join(root, file)\n",
        "\n",
        "                # Calculate the relative path for archiving\n",
        "                archive_path = os.path.relpath(file_path, os.path.join(torrent_directory, '..'))\n",
        "\n",
        "                # Add the file to the ZIP archive\n",
        "                zip_file.write(file_path, archive_path)\n",
        "\n",
        "    print('\\nALL DONE!')\n",
        "\n",
        "# Call the function to zip the downloaded torrent\n",
        "zip_downloaded_torrent()"
      ]
    }
  ],
  "metadata": {
    "colab": {
      "provenance": []
    },
    "kernelspec": {
      "display_name": "Python 3",
      "name": "python3"
    },
    "language_info": {
      "name": "python"
    }
  },
  "nbformat": 4,
  "nbformat_minor": 0
}